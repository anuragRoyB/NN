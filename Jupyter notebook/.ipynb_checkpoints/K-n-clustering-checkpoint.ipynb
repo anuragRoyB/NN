{
 "cells": [
  {
   "cell_type": "code",
   "execution_count": 1,
   "metadata": {
    "collapsed": false
   },
   "outputs": [],
   "source": [
    "from scipy import misc\n",
    "import random\n",
    "import numpy as np"
   ]
  },
  {
   "cell_type": "code",
   "execution_count": 3,
   "metadata": {
    "collapsed": false
   },
   "outputs": [
    {
     "ename": "NameError",
     "evalue": "name 'n' is not defined",
     "output_type": "error",
     "traceback": [
      "\u001b[0;31m---------------------------------------------------------------------------\u001b[0m",
      "\u001b[0;31mNameError\u001b[0m                                 Traceback (most recent call last)",
      "\u001b[0;32m<ipython-input-3-eb4b6000df84>\u001b[0m in \u001b[0;36m<module>\u001b[0;34m()\u001b[0m\n\u001b[1;32m     77\u001b[0m \u001b[0;34m\u001b[0m\u001b[0m\n\u001b[1;32m     78\u001b[0m \u001b[0;32mfor\u001b[0m \u001b[0mcount\u001b[0m \u001b[0;32min\u001b[0m \u001b[0mrange\u001b[0m\u001b[0;34m(\u001b[0m\u001b[0mrandInit\u001b[0m\u001b[0;34m)\u001b[0m\u001b[0;34m:\u001b[0m\u001b[0;34m\u001b[0m\u001b[0m\n\u001b[0;32m---> 79\u001b[0;31m     \u001b[0mcentroids\u001b[0m\u001b[0;34m=\u001b[0m\u001b[0minitiateCentroid\u001b[0m\u001b[0;34m(\u001b[0m\u001b[0mn\u001b[0m\u001b[0;34m,\u001b[0m\u001b[0marry\u001b[0m\u001b[0;34m)\u001b[0m\u001b[0;34m\u001b[0m\u001b[0m\n\u001b[0m\u001b[1;32m     80\u001b[0m     \u001b[0mprint\u001b[0m\u001b[0;34m(\u001b[0m\u001b[0;34m\"random initialization: %d\"\u001b[0m\u001b[0;34m%\u001b[0m\u001b[0mcount\u001b[0m\u001b[0;34m)\u001b[0m\u001b[0;34m\u001b[0m\u001b[0m\n\u001b[1;32m     81\u001b[0m     \u001b[0;32mfor\u001b[0m \u001b[0mi\u001b[0m \u001b[0;32min\u001b[0m \u001b[0mrange\u001b[0m\u001b[0;34m(\u001b[0m\u001b[0;36m50\u001b[0m\u001b[0;34m)\u001b[0m\u001b[0;34m:\u001b[0m\u001b[0;34m\u001b[0m\u001b[0m\n",
      "\u001b[0;31mNameError\u001b[0m: name 'n' is not defined"
     ]
    }
   ],
   "source": [
    "def findNearestCentroid(val,centroids):\n",
    "    minD=-1\n",
    "    idx=0\n",
    "    for i in range(len(centroids)):\n",
    "        \n",
    "        d=(val[0]-centroids[i][0])**2+(val[1]-centroids[i][1])**2+(val[2]-centroids[i][2])**2\n",
    "        if(minD==-1):\n",
    "            minD=d\n",
    "            idx=i\n",
    "        elif (minD>d):\n",
    "            minD=d\n",
    "            idx=i\n",
    "    return idx\n",
    "\n",
    "def assignCentroids(arry,centroids):\n",
    "    l,b,h=arry.shape\n",
    "    clusteredArray=np.zeros([l,b,1])\n",
    "    for i in range(l-1):\n",
    "        for j in range(b-1):\n",
    "            pixelVal=arry[i][j]\n",
    "            centroidIdx=findNearestCentroid(pixelVal,centroids)\n",
    "            clusteredArray[i][j]=centroidIdx\n",
    "    return clusteredArray\n",
    "\n",
    "def evaluateCentroids(clusteredArray,n,arry):\n",
    "    ctr=np.zeros([n,4]) \n",
    "    l,b,h=arry.shape\n",
    "    for i in range(l-1):\n",
    "        for j in range(b-1):\n",
    "            idx=int(clusteredArray[i][j])\n",
    "            ctr[idx,0]=ctr[idx,0]+arry[i][j][0]\n",
    "            ctr[idx,1]=ctr[idx,1]+arry[i][j][1]\n",
    "            ctr[idx,2]=ctr[idx,2]+arry[i][j][2]\n",
    "            ctr[idx,3]=ctr[idx,3]+1\n",
    "    for i in range(len(ctr)):\n",
    "        centroids[i][0]=ctr[i,0]/ctr[i,3]\n",
    "        centroids[i][1]=ctr[i,1]/ctr[i,3]\n",
    "        centroids[i][2]=ctr[i,2]/ctr[i,3]\n",
    "    return centroids\n",
    "\n",
    "def initiateCentroid(n,arry):\n",
    "    centroids=np.zeros([n,3])\n",
    "    for i in range(n):\n",
    "        RGB=arry[random.randint(0,l-1)][random.randint(0,b-1)]\n",
    "        centroids[i][0]=RGB[0]\n",
    "        centroids[i][1]=RGB[1]\n",
    "        centroids[i][2]=RGB[2]\n",
    "    return centroids\n",
    "\n",
    "def calculateCost(arry,centroids,clusteredArray):\n",
    "    l,b,h=arry.shape\n",
    "    J=0\n",
    "    for i in range(l-1):\n",
    "        for j in range(b-1):\n",
    "            J=J+(arry[i][j][0]-centroids[int(clusteredArray[i][j])][0])**2+(arry[i][j][1]-centroids[int(clusteredArray[i][j])][1])**2+(arry[i][j][2]-centroids[int(clusteredArray[i][j])][2])**2\n",
    "    return J\n",
    "\n",
    "def updateBestSolution(clusteredArray):\n",
    "    l,b,h=clusteredArray.shape\n",
    "    bestSolution=np.zeros([l,b,1])\n",
    "    for i in range(l-1):\n",
    "        for j in range(b-1):\n",
    "            bestSolution[i][j]=clusteredArray[i][j]\n",
    "    return bestsolution\n",
    "\n",
    "\n",
    "arry=misc.imread('sachin.jpg')\n",
    "#no of colors to reduce\n",
    "clusterCount=8\n",
    "iterations=50\n",
    "randInit=10\n",
    "centroids=np.zeros([clusterCount,3])\n",
    "l,b,h=arry.shape\n",
    "clusteredArray=np.zeros([l,b,1])\n",
    "minCost=-1\n",
    "bestSolution=np.zeros([l,b,1])\n",
    "\n",
    "for count in range(randInit):\n",
    "    centroids=initiateCentroid(n,arry)\n",
    "    print(\"random initialization: %d\"%count)\n",
    "    for i in range(50):\n",
    "        clusteredArray=assignCentroids(arry,centroids)\n",
    "        centroids=evaluateCentroids(clusteredArray,len(centroids),arry)\n",
    "        print (\"iteration %d\"%i)     \n",
    "    cost=calculateCost(arry,centroids,clusteredArray)\n",
    "    if minCost==-1:\n",
    "        minCost=cost\n",
    "        bestSolution=updateBestSolution(clusteredArray)\n",
    "    elif minCost>cost:\n",
    "        minCost=cost\n",
    "        bestSolution=updateBestSolution(clusteredArray)\n",
    "    \n",
    "    \n",
    "for i in range(l-1):\n",
    "    for j in range(b-1):\n",
    "        arry[i][j][0]=centroids[int(bestSolution[i][j])][0]\n",
    "        arry[i][j][1]=centroids[int(bestSolution[i][j])][1]\n",
    "        arry[i][j][2]=centroids[int(bestSolution[i][j])][2]\n",
    "\n",
    "misc.imsave('sachin_compressed.jpg',arry)\n"
   ]
  },
  {
   "cell_type": "code",
   "execution_count": null,
   "metadata": {
    "collapsed": true
   },
   "outputs": [],
   "source": []
  },
  {
   "cell_type": "code",
   "execution_count": null,
   "metadata": {
    "collapsed": true
   },
   "outputs": [],
   "source": []
  }
 ],
 "metadata": {
  "anaconda-cloud": {},
  "kernelspec": {
   "display_name": "Python 3",
   "language": "python",
   "name": "python3"
  },
  "language_info": {
   "codemirror_mode": {
    "name": "ipython",
    "version": 3
   },
   "file_extension": ".py",
   "mimetype": "text/x-python",
   "name": "python",
   "nbconvert_exporter": "python",
   "pygments_lexer": "ipython3",
   "version": "3.6.0"
  }
 },
 "nbformat": 4,
 "nbformat_minor": 1
}
